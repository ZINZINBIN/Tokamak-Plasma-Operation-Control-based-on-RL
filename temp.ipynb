{
 "cells": [
  {
   "cell_type": "code",
   "execution_count": 3,
   "metadata": {},
   "outputs": [
    {
     "name": "stdout",
     "output_type": "stream",
     "text": [
      "torch device avaliable :  True\n",
      "torch current device :  0\n",
      "torch device num :  4\n"
     ]
    }
   ],
   "source": [
    "from src.rl.env import NeuralEnv\n",
    "from src.nn_env.model import TStransformer\n",
    "from src.rl.rewards import RewardSender\n",
    "\n",
    "import torch\n",
    "\n",
    "# torch device state\n",
    "print(\"torch device avaliable : \", torch.cuda.is_available())\n",
    "print(\"torch current device : \", torch.cuda.current_device())\n",
    "print(\"torch device num : \", torch.cuda.device_count())\n",
    "\n",
    "# torch cuda initialize and clear cache\n",
    "torch.cuda.init()\n",
    "torch.cuda.empty_cache()\n",
    "\n",
    "# device allocation\n",
    "if(torch.cuda.device_count() >= 1):\n",
    "    device = \"cuda:{}\".format(str(3))\n",
    "else:\n",
    "    device = 'cpu'\n",
    "\n",
    "# 0D parameters\n",
    "cols_0D = [\n",
    "    '\\\\q0', '\\\\q95', '\\\\ipmhd', '\\\\kappa', \n",
    "    '\\\\tritop', '\\\\tribot','\\\\betap','\\\\betan',\n",
    "    '\\\\li', '\\\\WTOT_DLM03'\n",
    "]\n",
    "\n",
    "# else diagnostics\n",
    "cols_diag = [\n",
    "    '\\\\ne_inter01', '\\\\ne_tci01', '\\\\ne_tci02', '\\\\ne_tci03', '\\\\ne_tci04', '\\\\ne_tci05',\n",
    "]\n",
    "\n",
    "# control value / parameter\n",
    "cols_control = [\n",
    "    '\\\\nb11_pnb','\\\\nb12_pnb','\\\\nb13_pnb',\n",
    "    '\\\\RC01', '\\\\RC02', '\\\\RC03',\n",
    "    '\\\\VCM01', '\\\\VCM02', '\\\\VCM03',\n",
    "    '\\\\EC2_PWR', '\\\\EC3_PWR', \n",
    "    '\\\\ECSEC2TZRTN', '\\\\ECSEC3TZRTN',\n",
    "    '\\\\LV01'\n",
    "]\n",
    "\n",
    "# predictor\n",
    "model = TStransformer(\n",
    "    n_features = len(cols_0D + cols_control), \n",
    "    feature_dims = 128, \n",
    "    max_len = 21, \n",
    "    n_layers = 4, \n",
    "    n_heads = 8, \n",
    "    dim_feedforward = 512, \n",
    "    dropout = 0.25, \n",
    "    mlp_dim = 64, \n",
    "    pred_len = 1,\n",
    "    output_dim = len(cols_0D)\n",
    ")\n",
    "\n",
    "model.to(device)\n",
    "model.load_state_dict(torch.load(\"./weights/TStransformer_best.pt\"))\n",
    "\n",
    "# reward \n",
    "targets_dict = {\n",
    "    \"\\\\betap\" : 3.0,\n",
    "    \"\\\\betan\" : 4.0,\n",
    "    \"\\\\q95\" : 4.0,\n",
    "    \"\\\\q0\" : 1.0\n",
    "}\n",
    "\n",
    "reward_sender = RewardSender(targets_dict, total_cols = cols_0D + cols_control)\n",
    "\n",
    "env = NeuralEnv(predictor=model, device = device, reward_sender = reward_sender, seq_len = 21, pred_len = 3)"
   ]
  },
  {
   "cell_type": "code",
   "execution_count": 4,
   "metadata": {},
   "outputs": [
    {
     "data": {
      "text/html": [
       "<div>\n",
       "<style scoped>\n",
       "    .dataframe tbody tr th:only-of-type {\n",
       "        vertical-align: middle;\n",
       "    }\n",
       "\n",
       "    .dataframe tbody tr th {\n",
       "        vertical-align: top;\n",
       "    }\n",
       "\n",
       "    .dataframe thead th {\n",
       "        text-align: right;\n",
       "    }\n",
       "</style>\n",
       "<table border=\"1\" class=\"dataframe\">\n",
       "  <thead>\n",
       "    <tr style=\"text-align: right;\">\n",
       "      <th></th>\n",
       "      <th>index</th>\n",
       "      <th>time</th>\n",
       "      <th>shot</th>\n",
       "      <th>\\q0</th>\n",
       "      <th>\\q95</th>\n",
       "      <th>\\ipmhd</th>\n",
       "      <th>\\kappa</th>\n",
       "      <th>\\tritop</th>\n",
       "      <th>\\tribot</th>\n",
       "      <th>\\betap</th>\n",
       "      <th>...</th>\n",
       "      <th>\\TS_EDGE7:EDGE7_NE</th>\n",
       "      <th>\\TS_EDGE8:EDGE8_NE</th>\n",
       "      <th>\\TS_EDGE9:EDGE9_NE</th>\n",
       "      <th>\\TS_EDGE10:EDGE10_NE</th>\n",
       "      <th>\\TS_EDGE11:EDGE11_NE</th>\n",
       "      <th>\\TS_EDGE12:EDGE12_NE</th>\n",
       "      <th>\\TS_EDGE13:EDGE13_NE</th>\n",
       "      <th>\\TS_EDGE14:EDGE14_NE</th>\n",
       "      <th>\\TS_EDGE15:EDGE15_NE</th>\n",
       "      <th>frame_idx</th>\n",
       "    </tr>\n",
       "  </thead>\n",
       "  <tbody>\n",
       "    <tr>\n",
       "      <th>248209</th>\n",
       "      <td>248209</td>\n",
       "      <td>0.000000</td>\n",
       "      <td>18156</td>\n",
       "      <td>226.400101</td>\n",
       "      <td>0.734357</td>\n",
       "      <td>-6.459929</td>\n",
       "      <td>0.542748</td>\n",
       "      <td>4.746996</td>\n",
       "      <td>-8.604465</td>\n",
       "      <td>-6.479645</td>\n",
       "      <td>...</td>\n",
       "      <td>7.390264e+21</td>\n",
       "      <td>1.103687e+22</td>\n",
       "      <td>3.163104e+21</td>\n",
       "      <td>9.632385e+21</td>\n",
       "      <td>4.466228e+22</td>\n",
       "      <td>-7.062761e+22</td>\n",
       "      <td>1.051886e+21</td>\n",
       "      <td>-1.425331e+22</td>\n",
       "      <td>NaN</td>\n",
       "      <td>0</td>\n",
       "    </tr>\n",
       "    <tr>\n",
       "      <th>248210</th>\n",
       "      <td>248210</td>\n",
       "      <td>0.019048</td>\n",
       "      <td>18156</td>\n",
       "      <td>210.940140</td>\n",
       "      <td>0.799791</td>\n",
       "      <td>-6.166759</td>\n",
       "      <td>0.237298</td>\n",
       "      <td>4.230034</td>\n",
       "      <td>-8.066546</td>\n",
       "      <td>-6.007341</td>\n",
       "      <td>...</td>\n",
       "      <td>6.806800e+21</td>\n",
       "      <td>1.015384e+22</td>\n",
       "      <td>2.914383e+21</td>\n",
       "      <td>8.915231e+21</td>\n",
       "      <td>4.114415e+22</td>\n",
       "      <td>-6.483132e+22</td>\n",
       "      <td>9.688003e+20</td>\n",
       "      <td>-1.304972e+22</td>\n",
       "      <td>NaN</td>\n",
       "      <td>4</td>\n",
       "    </tr>\n",
       "    <tr>\n",
       "      <th>248211</th>\n",
       "      <td>248211</td>\n",
       "      <td>0.038095</td>\n",
       "      <td>18156</td>\n",
       "      <td>196.218765</td>\n",
       "      <td>0.857500</td>\n",
       "      <td>-5.885434</td>\n",
       "      <td>-0.049120</td>\n",
       "      <td>3.742515</td>\n",
       "      <td>-7.557341</td>\n",
       "      <td>-5.561381</td>\n",
       "      <td>...</td>\n",
       "      <td>6.254798e+21</td>\n",
       "      <td>9.319105e+21</td>\n",
       "      <td>2.679008e+21</td>\n",
       "      <td>8.234592e+21</td>\n",
       "      <td>3.781529e+22</td>\n",
       "      <td>-5.935990e+22</td>\n",
       "      <td>8.902076e+20</td>\n",
       "      <td>-1.191517e+22</td>\n",
       "      <td>NaN</td>\n",
       "      <td>8</td>\n",
       "    </tr>\n",
       "    <tr>\n",
       "      <th>248212</th>\n",
       "      <td>248212</td>\n",
       "      <td>0.057143</td>\n",
       "      <td>18156</td>\n",
       "      <td>182.217560</td>\n",
       "      <td>0.907746</td>\n",
       "      <td>-5.615630</td>\n",
       "      <td>-0.317065</td>\n",
       "      <td>3.283589</td>\n",
       "      <td>-7.076055</td>\n",
       "      <td>-5.141022</td>\n",
       "      <td>...</td>\n",
       "      <td>5.733387e+21</td>\n",
       "      <td>8.531315e+21</td>\n",
       "      <td>2.456612e+21</td>\n",
       "      <td>7.589516e+21</td>\n",
       "      <td>3.467048e+22</td>\n",
       "      <td>-5.420402e+22</td>\n",
       "      <td>8.159826e+20</td>\n",
       "      <td>-1.084765e+22</td>\n",
       "      <td>NaN</td>\n",
       "      <td>12</td>\n",
       "    </tr>\n",
       "    <tr>\n",
       "      <th>248213</th>\n",
       "      <td>248213</td>\n",
       "      <td>0.076190</td>\n",
       "      <td>18156</td>\n",
       "      <td>168.918137</td>\n",
       "      <td>0.950792</td>\n",
       "      <td>-5.357021</td>\n",
       "      <td>-0.567092</td>\n",
       "      <td>2.852406</td>\n",
       "      <td>-6.621900</td>\n",
       "      <td>-4.745517</td>\n",
       "      <td>...</td>\n",
       "      <td>5.241699e+21</td>\n",
       "      <td>7.789115e+21</td>\n",
       "      <td>2.246830e+21</td>\n",
       "      <td>6.979049e+21</td>\n",
       "      <td>3.170452e+22</td>\n",
       "      <td>-4.935434e+22</td>\n",
       "      <td>7.460008e+20</td>\n",
       "      <td>-9.845148e+21</td>\n",
       "      <td>NaN</td>\n",
       "      <td>16</td>\n",
       "    </tr>\n",
       "  </tbody>\n",
       "</table>\n",
       "<p>5 rows × 94 columns</p>\n",
       "</div>"
      ],
      "text/plain": [
       "         index      time   shot         \\q0      \\q95    \\ipmhd    \\kappa  \\\n",
       "248209  248209  0.000000  18156  226.400101  0.734357 -6.459929  0.542748   \n",
       "248210  248210  0.019048  18156  210.940140  0.799791 -6.166759  0.237298   \n",
       "248211  248211  0.038095  18156  196.218765  0.857500 -5.885434 -0.049120   \n",
       "248212  248212  0.057143  18156  182.217560  0.907746 -5.615630 -0.317065   \n",
       "248213  248213  0.076190  18156  168.918137  0.950792 -5.357021 -0.567092   \n",
       "\n",
       "         \\tritop   \\tribot    \\betap  ...  \\TS_EDGE7:EDGE7_NE  \\\n",
       "248209  4.746996 -8.604465 -6.479645  ...        7.390264e+21   \n",
       "248210  4.230034 -8.066546 -6.007341  ...        6.806800e+21   \n",
       "248211  3.742515 -7.557341 -5.561381  ...        6.254798e+21   \n",
       "248212  3.283589 -7.076055 -5.141022  ...        5.733387e+21   \n",
       "248213  2.852406 -6.621900 -4.745517  ...        5.241699e+21   \n",
       "\n",
       "        \\TS_EDGE8:EDGE8_NE  \\TS_EDGE9:EDGE9_NE  \\TS_EDGE10:EDGE10_NE  \\\n",
       "248209        1.103687e+22        3.163104e+21          9.632385e+21   \n",
       "248210        1.015384e+22        2.914383e+21          8.915231e+21   \n",
       "248211        9.319105e+21        2.679008e+21          8.234592e+21   \n",
       "248212        8.531315e+21        2.456612e+21          7.589516e+21   \n",
       "248213        7.789115e+21        2.246830e+21          6.979049e+21   \n",
       "\n",
       "        \\TS_EDGE11:EDGE11_NE  \\TS_EDGE12:EDGE12_NE  \\TS_EDGE13:EDGE13_NE  \\\n",
       "248209          4.466228e+22         -7.062761e+22          1.051886e+21   \n",
       "248210          4.114415e+22         -6.483132e+22          9.688003e+20   \n",
       "248211          3.781529e+22         -5.935990e+22          8.902076e+20   \n",
       "248212          3.467048e+22         -5.420402e+22          8.159826e+20   \n",
       "248213          3.170452e+22         -4.935434e+22          7.460008e+20   \n",
       "\n",
       "        \\TS_EDGE14:EDGE14_NE  \\TS_EDGE15:EDGE15_NE  frame_idx  \n",
       "248209         -1.425331e+22                   NaN          0  \n",
       "248210         -1.304972e+22                   NaN          4  \n",
       "248211         -1.191517e+22                   NaN          8  \n",
       "248212         -1.084765e+22                   NaN         12  \n",
       "248213         -9.845148e+21                   NaN         16  \n",
       "\n",
       "[5 rows x 94 columns]"
      ]
     },
     "execution_count": 4,
     "metadata": {},
     "output_type": "execute_result"
    }
   ],
   "source": [
    "import pandas as pd\n",
    "import numpy as np\n",
    "from sklearn.preprocessing import RobustScaler\n",
    "\n",
    "df = pd.read_csv(\"./dataset/KSTAR_Disruption_ts_data_extend.csv\").reset_index()\n",
    "df_disruption = pd.read_csv(\"./dataset/KSTAR_Disruption_Shot_List.csv\", encoding='euc-kr').reset_index()\n",
    "\n",
    "# nan interpolation\n",
    "df.interpolate(method = 'linear', limit_direction = 'forward')\n",
    "\n",
    "# columns for use\n",
    "ts_cols = cols_0D + cols_control\n",
    "\n",
    "# float type\n",
    "for col in ts_cols:\n",
    "    df[col] = df[col].astype(np.float32)\n",
    "    \n",
    "df[cols_control] = df[cols_control].fillna(0)\n",
    "\n",
    "df[cols_0D] = df[cols_0D].fillna(method = 'ffill')\n",
    "\n",
    "scaler = RobustScaler()\n",
    "df[ts_cols] = scaler.fit_transform(df[ts_cols].values)\n",
    "\n",
    "df_shot = df[df.shot == 18156]\n",
    "df_shot.head()"
   ]
  },
  {
   "cell_type": "code",
   "execution_count": 5,
   "metadata": {},
   "outputs": [],
   "source": [
    "init_indices = df_shot[df_shot.time >= 1.0].index[0:21].values\n",
    "init_state = df_shot[cols_0D].loc[init_indices].values\n",
    "init_action = df_shot[cols_control].loc[init_indices].values"
   ]
  },
  {
   "cell_type": "code",
   "execution_count": 6,
   "metadata": {},
   "outputs": [],
   "source": [
    "import torch\n",
    "\n",
    "init_state = torch.from_numpy(init_state)\n",
    "init_action = torch.from_numpy(init_action)\n",
    "env.update_init_state(init_state, init_action)"
   ]
  },
  {
   "cell_type": "code",
   "execution_count": 7,
   "metadata": {},
   "outputs": [
    {
     "name": "stdout",
     "output_type": "stream",
     "text": [
      "state :  torch.Size([1, 21, 10])\n",
      "tensor([[[-0.2462, -0.6201, -0.0873, -2.3022, -1.2656, -1.5584, -0.8653,\n",
      "          -1.0152,  0.4383, -0.3671],\n",
      "         [-0.2860, -0.6348, -0.1549, -2.3324, -1.3211, -1.5498, -0.8611,\n",
      "          -1.0110,  0.5047, -0.3343],\n",
      "         [-0.2708, -0.6272, -0.2179, -2.3373, -1.3560, -1.5381, -0.8533,\n",
      "          -1.0041,  0.5128, -0.3052],\n",
      "         [-0.2275, -0.5901, -0.2612, -2.3065, -1.3514, -1.5264, -0.8444,\n",
      "          -0.9988,  0.4853, -0.2913],\n",
      "         [-0.1689, -0.5323, -0.2762, -2.2455, -1.3111, -1.5114, -0.8340,\n",
      "          -0.9927,  0.4337, -0.2929],\n",
      "         [-0.1034, -0.4682, -0.2563, -2.1662, -1.2470, -1.4874, -0.8206,\n",
      "          -0.9812,  0.3652, -0.3061],\n",
      "         [-0.0464, -0.4123, -0.2050, -2.0836, -1.1743, -1.4548, -0.8057,\n",
      "          -0.9646,  0.3013, -0.3271],\n",
      "         [-0.0282, -0.3781, -0.1441, -2.0196, -1.1140, -1.4264, -0.7968,\n",
      "          -0.9531,  0.2903, -0.3526],\n",
      "         [-0.0774, -0.3777, -0.0968, -1.9949, -1.0864, -1.4150, -0.8013,\n",
      "          -0.9572,  0.3791, -0.3790],\n",
      "         [-0.1793, -0.4024, -0.0719, -2.0024, -1.0900, -1.4184, -0.8182,\n",
      "          -0.9768,  0.5527, -0.4005],\n",
      "         [-0.2879, -0.4287, -0.0682, -2.0152, -1.1073, -1.4234, -0.8401,\n",
      "          -1.0045,  0.7512, -0.4098],\n",
      "         [-0.3652, -0.4370, -0.0821, -2.0100, -1.1232, -1.4186, -0.8597,\n",
      "          -1.0326,  0.9216, -0.4026],\n",
      "         [-0.4064, -0.4248, -0.1023, -1.9807, -1.1332, -1.4016, -0.8722,\n",
      "          -1.0536,  1.0416, -0.3877],\n",
      "         [-0.4155, -0.3942, -0.1152, -1.9254, -1.1355, -1.3722, -0.8733,\n",
      "          -1.0601,  1.0972, -0.3767],\n",
      "         [-0.4031, -0.3516, -0.1157, -1.8503, -1.1286, -1.3349, -0.8638,\n",
      "          -1.0524,  1.1000, -0.3744],\n",
      "         [-0.3890, -0.3093, -0.1095, -1.7728, -1.1115, -1.3005, -0.8527,\n",
      "          -1.0417,  1.0975, -0.3762],\n",
      "         [-0.3913, -0.2785, -0.1032, -1.7090, -1.0832, -1.2786, -0.8480,\n",
      "          -1.0389,  1.1338, -0.3768],\n",
      "         [-0.4075, -0.2560, -0.1007, -1.6565, -1.0429, -1.2627, -0.8495,\n",
      "          -1.0439,  1.2047, -0.3745],\n",
      "         [-0.4242, -0.2314, -0.1051, -1.6030, -0.9896, -1.2377, -0.8525,\n",
      "          -1.0515,  1.2804, -0.3695],\n",
      "         [-0.4318, -0.1973, -0.1167, -1.5397, -0.9257, -1.1947, -0.8532,\n",
      "          -1.0574,  1.3386, -0.3624],\n",
      "         [-0.4310, -0.1558, -0.1300, -1.4659, -0.8635, -1.1412, -0.8515,\n",
      "          -1.0609,  1.3774, -0.3550]]], device='cuda:3')\n"
     ]
    }
   ],
   "source": [
    "# reset\n",
    "state = env.reset()\n",
    "print(\"state : \", state.size())\n",
    "print(state)"
   ]
  },
  {
   "cell_type": "code",
   "execution_count": 9,
   "metadata": {},
   "outputs": [
    {
     "name": "stdout",
     "output_type": "stream",
     "text": [
      "next action :  torch.Size([21, 14])\n"
     ]
    }
   ],
   "source": [
    "next_indices = df_shot[df_shot.time >= 1.0].index[21:42].values\n",
    "next_action = df_shot[cols_control].loc[next_indices].values\n",
    "next_action = torch.from_numpy(next_action)\n",
    "\n",
    "print(\"next action : \", next_action.size())"
   ]
  },
  {
   "cell_type": "code",
   "execution_count": 10,
   "metadata": {},
   "outputs": [
    {
     "name": "stdout",
     "output_type": "stream",
     "text": [
      "exp t : 0.019\n"
     ]
    }
   ],
   "source": [
    "next_state, reward, done, _ = env.step(next_action)"
   ]
  },
  {
   "cell_type": "code",
   "execution_count": 11,
   "metadata": {},
   "outputs": [
    {
     "name": "stdout",
     "output_type": "stream",
     "text": [
      "next_state :  torch.Size([1, 1, 10])\n",
      "reward :  tensor(0.6329, device='cuda:3', grad_fn=<AddBackward0>)\n",
      "done :  False\n"
     ]
    }
   ],
   "source": [
    "print(\"next_state : \", next_state.size())\n",
    "print(\"reward : \", reward)\n",
    "print(\"done : \", done)"
   ]
  },
  {
   "cell_type": "code",
   "execution_count": 32,
   "metadata": {},
   "outputs": [
    {
     "data": {
      "text/plain": [
       "array([21680, 21681, 21682, 21683, 21706, 21730, 21731, 21735, 21747])"
      ]
     },
     "execution_count": 32,
     "metadata": {},
     "output_type": "execute_result"
    }
   ],
   "source": [
    "np.unique(df.shot)[-10:-1]"
   ]
  },
  {
   "cell_type": "code",
   "execution_count": 17,
   "metadata": {},
   "outputs": [
    {
     "name": "stdout",
     "output_type": "stream",
     "text": [
      "control values : ['\\\\nb11_pnb', '\\\\nb12_pnb', '\\\\nb13_pnb', '\\\\RC01', '\\\\RC02', '\\\\RC03', '\\\\VCM01', '\\\\VCM02', '\\\\VCM03', '\\\\EC2_PWR', '\\\\EC3_PWR', '\\\\ECSEC2TZRTN', '\\\\ECSEC3TZRTN', '\\\\LV01']\n",
      "# of control values : 14\n"
     ]
    }
   ],
   "source": [
    "print(\"control values : {}\".format(cols_control))\n",
    "print('# of control values : {}'.format(len(cols_control)))"
   ]
  },
  {
   "cell_type": "code",
   "execution_count": 38,
   "metadata": {},
   "outputs": [
    {
     "data": {
      "image/png": "[encoded data removed]",
      "text/plain": [
       "<Figure size 1008x432 with 14 Axes>"
      ]
     },
     "metadata": {
      "needs_background": "light"
     },
     "output_type": "display_data"
    }
   ],
   "source": [
    "import matplotlib.pyplot as plt\n",
    "from matplotlib.gridspec import GridSpec\n",
    "\n",
    "shot_num = 21706\n",
    "t_control = df[df.shot == shot_num].time\n",
    "df_control= df[df.shot == shot_num][cols_control]\n",
    "\n",
    "fig = plt.figure(figsize = (14, 6))\n",
    "fig.suptitle(\"Disruption prediction with shot : {}\".format(shot_num))\n",
    "gs = GridSpec(nrows = 5, ncols = 3)\n",
    "\n",
    "quantile = [0, 0.25, 0.5, 0.75, 1.0, 1.25]\n",
    "t_quantile = [q * max(t_control) for q in quantile]\n",
    "\n",
    "\n",
    "idx_i = 0\n",
    "idx_j = 0\n",
    "\n",
    "for col in cols_control:\n",
    "    ax = fig.add_subplot(gs[idx_i,idx_j])\n",
    "    ax.plot(t_control, df_control[col], label = col)\n",
    "    ax.text(0.85, 0.8, col, transform = ax.transAxes)\n",
    "    \n",
    "    if idx_i < 4:\n",
    "        idx_i += 1\n",
    "    else:\n",
    "        idx_i = 0\n",
    "        idx_j += 1\n",
    "        ax.set_xticks(t_quantile)\n",
    "        ax.set_xticklabels([\"{:.1f}\".format(t) for t in t_quantile])\n",
    "\n",
    "fig.tight_layout()\n",
    "plt.show()"
   ]
  },
  {
   "cell_type": "code",
   "execution_count": null,
   "metadata": {},
   "outputs": [],
   "source": [
    "# test for nn-based surogated model\n"
   ]
  }
 ],
 "metadata": {
  "kernelspec": {
   "display_name": "research-env",
   "language": "python",
   "name": "python3"
  },
  "language_info": {
   "codemirror_mode": {
    "name": "ipython",
    "version": 3
   },
   "file_extension": ".py",
   "mimetype": "text/x-python",
   "name": "python",
   "nbconvert_exporter": "python",
   "pygments_lexer": "ipython3",
   "version": "3.9.7"
  },
  "orig_nbformat": 4,
  "vscode": {
   "interpreter": {
    "hash": "13691d44a992e9eda53412410cd635bb66f9b6a1d0122e1b07e8626f6211bdec"
   }
  }
 },
 "nbformat": 4,
 "nbformat_minor": 2
}
